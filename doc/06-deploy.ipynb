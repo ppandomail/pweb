{
 "cells": [
  {
   "cell_type": "markdown",
   "id": "d3283ec9-69e5-47a7-9fe3-5e5ef99ca211",
   "metadata": {},
   "source": [
    "# Deploy\n",
    "---"
   ]
  },
  {
   "cell_type": "markdown",
   "id": "d4f59cdc-3718-4f99-b047-1eb45ab25f6c",
   "metadata": {},
   "source": [
    "## Docker"
   ]
  },
  {
   "cell_type": "markdown",
   "id": "6c2afdc0-e5ef-4c84-8af9-f31762891f55",
   "metadata": {},
   "source": [
    "* Es un software de código abierto utilizado para desplegar aplicaciones dentro de contenedores virtuales (minicomputadoras con lo mínimo e indispensable para que la aplicación funcione)\n",
    "* Permite a los usuarios crear entornos independientes y aislados para desplegar sus aplicaciones (CONTENEDORES)"
   ]
  },
  {
   "cell_type": "markdown",
   "id": "50f7b52e-de57-4836-9489-7b48f3210eec",
   "metadata": {},
   "source": [
    "## ¿Por qué utilizar Docker como desarrollador?"
   ]
  },
  {
   "cell_type": "markdown",
   "id": "bb55e93f-b4c9-4ecb-aed9-3dfebcf6435f",
   "metadata": {},
   "source": [
    "* **Docker es rápido**. A diferencia de una máquina virtual, tu aplicación puede iniciarse en pocos segundos y detenerse igual de rápido\n",
    "* **Docker es multiplataforma**. Puedes lanzar tu contenedor en cualquier sistema\n",
    "* **Los contenedores pueden construirse y destruirse más rápido que en una máquina virtual**\n",
    "* **Se terminaron las dificultades para configurar tu entorno de trabajo**. Una vez configurado tu Docker, no tenés que volver a instalar tus dependencias manualmente. Si cambias de PC o si alguien nuevo lo requiere, solo tendrás que darle tu configuración (Dockerfile)\n",
    "* **Tu espacio de trabajo siempre limpio**, ya que cada uno de tus entornos estará aislado y podes eliminarlo en cualquier momento sin que afecte al resto\n",
    "* **Será más fácil desplegar tu proyecto en tu servidor para ponerlo en línea**"
   ]
  },
  {
   "cell_type": "markdown",
   "id": "df1f8d91-79a8-4837-b53f-aaed677a53ce",
   "metadata": {},
   "source": [
    "## Instalación"
   ]
  },
  {
   "cell_type": "markdown",
   "id": "bd4d0cbe-fd9e-4022-82f1-cb831e1004ec",
   "metadata": {},
   "source": [
    "[https://docs.docker.com/get-docker/](https://docs.docker.com/get-docker/)"
   ]
  },
  {
   "cell_type": "markdown",
   "id": "0dd04efc-1322-4747-9ddc-14902787385b",
   "metadata": {},
   "source": [
    "## Dockerizando mi aplicación"
   ]
  },
  {
   "cell_type": "markdown",
   "id": "4bdbf963-54a0-4650-90e1-74e75fdd4795",
   "metadata": {},
   "source": [
    "### DockerFile"
   ]
  },
  {
   "cell_type": "markdown",
   "id": "48b329ab-d88a-4ce0-891c-afbe44dd0f04",
   "metadata": {},
   "source": [
    "* Es un archivo que se crea en la raíz del proyecto\n",
    "* Lo primero que hay que hacer cuando queres crear tu Dockerfile es preguntarte qué queremos hacer. Nuestro objetivo es lanzar una aplicacion con Node.\n",
    "* Para ello nuestro Docker debe contener todas las dependencias necesarias para lanzar NODE (Un LINUX con NODE y listo)\n",
    "* El Primer paso para crear el Dockerfile es entrar a DockerHub (Este sitio contiene muchas imágenes prediseñadas para ahorrarte tiempo) y buscar la imagen que contenga nuestras precondiciones. Ej: [https://hub.docker.com/_/node](https://hub.docker.com/_/node)\n",
    "* Node ya viene con SO\n",
    "\n",
    "```sh\n",
    "# Un archivo docker (dockerfile) comienza siempre importanto la imagen base. \n",
    "# Utilizamos la palabra clave 'FROM' para hacerlo.\n",
    "# En nuestro ejemplo, queremos importar la imagen de NODE\n",
    "# Así que escribimos 'node' para el nombre de la imagen y 'latest' para la versión.\n",
    "FROM node\n",
    "\n",
    "# Para lanzar nuestro código node, debemos importarlo a nuestra imagen.\n",
    "# Utilizamos la palabra clave WORKDIR para crear el directorio \"app\".\n",
    "# Dentro de esta carpeta irán los artefactos de la aplicación\n",
    "WORKDIR /app\n",
    "\n",
    "# Utilizamos la palabra clave 'COPY' para importar el codigo.\n",
    "# El primer parámetro '.' indica TODO el contenido de la carpeta donde estamos parados\n",
    "# El segundo parámetro '.' es la ruta donde poner los archivos en la imagen.(app) \n",
    "COPY . .\n",
    "\n",
    "# Utilizamos el comando RUN para Instalar las dependencias de nuestro proyecto\n",
    "# Esto se ejecuta al construir la imagen \n",
    "RUN npm install\n",
    "\n",
    "\n",
    "# Utilizamos el comando EXPOSE  para exponer el puerto 3000  del contenedor que es donde se estaria levantando nuestra aplicacion\n",
    "# Levanta en el puerto 3000\n",
    "EXPOSE 3000\n",
    "\n",
    "# Utilizaremos el comando CMD para ejecutar dentro del contendor y fijar la app a levantar (Facilmente sobreescribible)\n",
    "CMD [\"node\", \"index.js\"]\n",
    "\n",
    "# Opcionalmente existe el comando  ENTRYPOINT para ejecutar dentro del contendor el servidor NODE\n",
    "# ENTRYPOINT [\"node\"]\n",
    "```"
   ]
  },
  {
   "cell_type": "markdown",
   "id": "b0875a5a-e3dd-4644-95fb-1bb43e7aa2f0",
   "metadata": {},
   "source": [
    "## Imagen docker"
   ]
  },
  {
   "cell_type": "markdown",
   "id": "33bbe59e-2029-4336-9f30-7f0283c09fca",
   "metadata": {},
   "source": [
    "* Es un archivo ejecutable e independiente que se utiliza para crear un contenedor.\n",
    "* Esta imagen contiene las bibliotecas, dependencias y los archivos que el contenedor necesita para ejecutarse.\n",
    "* **Imagen** -> es el producto software (archivos). Es la aplicación empaquetada\n",
    "* **Contenedor** -> es la máquina virtual, se crea cuando se ejecuta la imagen"
   ]
  },
  {
   "cell_type": "markdown",
   "id": "697e5731-e3f2-4a4b-b67d-f1d291ff0f81",
   "metadata": {},
   "source": [
    "## Comandos"
   ]
  },
  {
   "cell_type": "markdown",
   "id": "815e096f-b1bc-4c71-a69a-aed2446c8400",
   "metadata": {},
   "source": [
    "\n",
    "### Construyendo la imagen\n",
    "\n",
    "```sh\n",
    "docker build -t nombre_imagen .\n",
    "```\n",
    "\n",
    "* El punto es porque estoy parado en el proyecto, sino poner la ruta\n",
    "\n",
    "### Ver las imágenes creadas\n",
    "\n",
    "```sh\n",
    "docker images\n",
    "```\n",
    "\n",
    "### Ver los contenedores\n",
    "\n",
    "```sh\n",
    "docker ps\n",
    "```\n",
    "\n",
    "### Arrancar la aplicación\n",
    "\n",
    "```sh\n",
    "docker run -p 8080:3000 nombre_imagen \n",
    "```\n",
    "\n",
    "* -p -> macheo de puertos:\n",
    "  * 3000 en el puerto del contenedor\n",
    "  * 8080 en mi máquina\n",
    "* Si no está localmente la busca en el docker hub\n",
    "\n",
    "### Entrar al contenedor\n",
    "\n",
    "```sh\n",
    "docker ps\n",
    "docker exec -it id_contenedor /bin/bash\n",
    "root@...:/app#ls\n",
    "<ctrl> + <d> : sale del contenedor\n",
    "```\n",
    "\n",
    "* -it -> iterativo\n",
    "* id_contenedor: alcanza con los primeros cuatro números. Ej: 0532\n",
    "\n",
    "### Apagar el contenedor\n",
    "\n",
    "```sh\n",
    "docker stop id_contenedor\n",
    "```\n",
    "\n",
    "### Eliminar imagenes\n",
    "\n",
    "```sh\n",
    "docker rmi mi_imagen -f\n",
    "```\n",
    "\n",
    "## SUBIR IMAGEN A DOCKER HUB\n",
    "\n",
    "1. Loguearse en DockerHub con la cuenta de GitHub\n",
    "1. Crear un repositorio donde se alojaran nuestras imagenes. Por ejemplo: ppando/mi_imagen\n",
    "1. En nuestra consola, renombrar la imagen que generamos previamente con el nombre del repositorio que creamos\n",
    "\n",
    "    ```sh\n",
    "    docker tag mi_imagen ppando/mi_imagen:1.0.0\n",
    "    docker login\n",
    "    docker push ppando/mi_imagen:1.0.0\n",
    "    ````\n",
    "\n",
    "## DEPLOY\n",
    "\n",
    "### Deployar aplicación\n",
    "\n",
    "* Vamos a deployar en un servidor gratuito llamado [RENDER](https://render.com/)\n",
    "* Para ello los pasos son:\n",
    "\n",
    "#### Deploy de mi repo GitHub\n",
    "\n",
    "1. Loguearse en RENDER con la cuenta de GitHub\n",
    "1. New -> Web Service\n",
    "1. Seleccionar la opción \"Build and deploy from a Git repository\"\n",
    "1. Seleccionar el repositorio GitHub que queremos deployar\n",
    "1. Cargar los datos necesarios:\n",
    "    * Name\n",
    "    * Runtime: NODE\n",
    "    * Build Command: \"NPM install\"\n",
    "    * Start Command: \"NODE index.js\"\n",
    "    * Option FREE\n",
    "1. Botón Create Web Service\n",
    "\n",
    "* Si se comitea algo en GitHub se autodeploya\n",
    "\n",
    "#### Deploy de la imagen publicada en Docker Hub\n",
    "\n",
    "1. Loguearse en RENDER con la cuenta de GitHub\n",
    "1. New -> Web Service\n",
    "1. Seleccionar la opción \"Deploy an existing image from a registry\"\n",
    "1. Cargar los datos necesarios:\n",
    "    * Image URL: ppando/mi_imagen:1.0.0\n",
    "    * Environment variable: PORT = 3000\n",
    "1. Botón Next\n",
    "1. Option FREE\n",
    "1. Botón Create Web Service\n",
    "\n",
    "* El desploy es más rápido en comparación con la opción de deployar desde un repo de Git\n",
    "\n",
    "---\n",
    "\n",
    "#### Alternativa si no pueden instalar Docker (docker en la nube)\n",
    "\n",
    "[https://app.codeanywhere.com/](https://app.codeanywhere.com/)\n",
    "\n",
    "1. Loguearse con el usuario de GitHub\n",
    "1. Crear un workspace (seleccionando el repositorio GitHub a utilizar para construir la imagen)\n",
    "1. Se abre un editor como un VSCode\n",
    "1. Abrir una terminal\n",
    "1. Ejecutar los comandos docker vistos:\n",
    "\n",
    "    ```sh\n",
    "    docker build -t imagen_desde_code .\n",
    "    docker images\n",
    "    docker tag imagen_desde_code ppando/mi_imagen:2.0.0\n",
    "    docker push ppando/mi_imagen:2.0.0\n",
    "    docker login\n",
    "    docker push ppando/mi_imagen:2.0.0\n",
    "    ```"
   ]
  },
  {
   "cell_type": "code",
   "execution_count": null,
   "id": "089ad7f4-dabc-4321-a6d4-b444087b037a",
   "metadata": {},
   "outputs": [],
   "source": []
  }
 ],
 "metadata": {
  "kernelspec": {
   "display_name": "Python [conda env:base] *",
   "language": "python",
   "name": "conda-base-py"
  },
  "language_info": {
   "codemirror_mode": {
    "name": "ipython",
    "version": 3
   },
   "file_extension": ".py",
   "mimetype": "text/x-python",
   "name": "python",
   "nbconvert_exporter": "python",
   "pygments_lexer": "ipython3",
   "version": "3.12.7"
  }
 },
 "nbformat": 4,
 "nbformat_minor": 5
}
