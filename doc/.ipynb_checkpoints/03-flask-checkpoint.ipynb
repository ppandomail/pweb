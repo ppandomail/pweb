{
 "cells": [
  {
   "cell_type": "markdown",
   "id": "42942701-4ac7-4098-88cf-7a78af375d82",
   "metadata": {},
   "source": [
    "# Flask\n",
    "---"
   ]
  },
  {
   "cell_type": "markdown",
   "id": "91e98fa2-a5a3-4ac9-a857-02b7248bcc57",
   "metadata": {},
   "source": [
    "* Es un micro framework para Python\n",
    "* Permite crear aplicaciones web en forma rápida\n",
    "* [Guia de usuario](https://flask.palletsprojects.com/es/stable/)"
   ]
  },
  {
   "cell_type": "markdown",
   "id": "4365945a-7082-4cb2-a4de-810a8705fd3a",
   "metadata": {},
   "source": [
    "## Instalación"
   ]
  },
  {
   "cell_type": "markdown",
   "id": "3227f48b-a15d-4689-a896-0a71388a1695",
   "metadata": {},
   "source": [
    "```sh\n",
    "pip install flask\n",
    "```"
   ]
  },
  {
   "cell_type": "markdown",
   "id": "a1c90db0-a4c4-47e7-953c-9199e3cef727",
   "metadata": {},
   "source": [
    "## Aplicación Hola Mundo"
   ]
  },
  {
   "cell_type": "code",
   "execution_count": 21,
   "id": "85879471-be26-4c2b-bef3-6838a1e4f6a9",
   "metadata": {},
   "outputs": [
    {
     "name": "stdout",
     "output_type": "stream",
     "text": [
      "Writing hello.py\n"
     ]
    }
   ],
   "source": [
    "%%file hello.py\n",
    "from flask import Flask\n",
    "\n",
    "app = Flask(__name__)\n",
    "@app.route('/')  # le dice a Flask qué URL debe ejecutar \n",
    "def index():\n",
    "  return 'Hola mundo!'"
   ]
  },
  {
   "cell_type": "markdown",
   "id": "999484cb-f80f-4edb-a497-9a91e6496d4d",
   "metadata": {},
   "source": [
    "* Flask se encarga de hacer transparente el cómo a partir de una petición URL se ejecuta finalmente la función\n",
    "* El decorador \"route\" de la aplicación app es el encargado de decirle a Flask qué URL debe ejecutar su correspondiente función\n",
    "* La función debe devolver la respuesta que será mostrada en el navegador del usuario"
   ]
  },
  {
   "cell_type": "code",
   "execution_count": 18,
   "id": "1a6cf0a5-c445-4db4-8f7c-023ce323a77a",
   "metadata": {},
   "outputs": [],
   "source": [
    "!export FLASK_APP=hello.py"
   ]
  },
  {
   "cell_type": "code",
   "execution_count": 19,
   "id": "5edfe529-0bf4-4f8c-93d8-7f690158e3d1",
   "metadata": {},
   "outputs": [
    {
     "name": "stdout",
     "output_type": "stream",
     "text": [
      " * Serving Flask app 'hello'\n",
      " * Debug mode: off\n",
      "\u001b[31m\u001b[1mWARNING: This is a development server. Do not use it in a production deployment. Use a production WSGI server instead.\u001b[0m\n",
      " * Running on http://127.0.0.1:5000\n",
      "\u001b[33mPress CTRL+C to quit\u001b[0m\n",
      "^C\n"
     ]
    }
   ],
   "source": [
    "!flask --app hello run"
   ]
  },
  {
   "cell_type": "markdown",
   "id": "42e72a74-1c0b-4891-9de7-a7f376c65afe",
   "metadata": {},
   "source": [
    "* Para comprobar que la aplicación funciona, se entra al navegador y en la barra de direcciones introducir \"localhost:5000/\"\n",
    "* Para cambiar el puerto por cualquier motivo se puede hacer de dos formas distintas:\n",
    "  * Estableciendo la variable de entorno FLASK_RUN_PORT en un puerto diferente\n",
    "  * Indicando el puerto al lanzar el servidor: flask run --port 6000\n",
    "* Para aceptar peticiones de otras computadoras de nuestra red se lanza el servidor de la siguiente manera: flask run --host 0.0.0.0\n",
    "* Para salir del servidor (CTRL + C)"
   ]
  },
  {
   "cell_type": "markdown",
   "id": "dcc44810-654e-4b77-9e0a-707dec74fd01",
   "metadata": {},
   "source": [
    "## Aplicación con formato"
   ]
  },
  {
   "cell_type": "code",
   "execution_count": 22,
   "id": "0492f01c-414b-44f8-95c9-1e47aa64f005",
   "metadata": {},
   "outputs": [
    {
     "name": "stdout",
     "output_type": "stream",
     "text": [
      "Writing formato.py\n"
     ]
    }
   ],
   "source": [
    "%%file formato.py\n",
    "from flask import Flask\n",
    "\n",
    "    app = Flask(__name__)\n",
    "\n",
    "    @app.route('/contacto')\n",
    "    def contacto():\n",
    "        return '<h1>Contacto</h1>'"
   ]
  },
  {
   "cell_type": "code",
   "execution_count": null,
   "id": "cf8a281a-9c4a-4bef-b1f0-df00612f2c77",
   "metadata": {},
   "outputs": [],
   "source": [
    "!export FLASK_APP=formato.py"
   ]
  },
  {
   "cell_type": "code",
   "execution_count": null,
   "id": "c4e7d9fe-d892-40d8-88d9-c8861bc9bff6",
   "metadata": {},
   "outputs": [],
   "source": [
    "!flask run"
   ]
  },
  {
   "cell_type": "markdown",
   "id": "2436c98a-aaea-4e18-9432-9fe405854025",
   "metadata": {},
   "source": [
    "## Aplicación con parámetro"
   ]
  },
  {
   "cell_type": "markdown",
   "id": "7088d19c-89f0-48a5-8ebe-6d17db7ee31d",
   "metadata": {},
   "source": [
    "* En una aplicación web no todas las páginas tienen una URL definida de antemano, como es el caso de la página principal\n",
    "* A una URL se le pueden agregar secciones variables o parametrizadas con \"param\"\n",
    "* La vista recibirá \"param\" como un parámetro con ese mismo nombre\n",
    "* Opcionalmente se puede indicar un conversor \"converter\" para especificar el tipo de dicho parámetro así \"converter:param\""
   ]
  },
  {
   "cell_type": "code",
   "execution_count": 23,
   "id": "fc421acf-17a2-40b1-b541-3f166e80e20f",
   "metadata": {},
   "outputs": [
    {
     "name": "stdout",
     "output_type": "stream",
     "text": [
      "Writing param.py\n"
     ]
    }
   ],
   "source": [
    "%%file param.py\n",
    "from flask import Flask\n",
    "\n",
    "    app = Flask(__name__)\n",
    "\n",
    "    @app.route('/hola/<string:nombre>')\n",
    "    def hola(nombre):\n",
    "        return f'<h1>Hola {nombre}</h1>'"
   ]
  },
  {
   "cell_type": "code",
   "execution_count": null,
   "id": "f0cbebf4-c133-46f2-978b-4d6fd9678c4f",
   "metadata": {},
   "outputs": [],
   "source": [
    "!export FLASK_APP=param.py"
   ]
  },
  {
   "cell_type": "code",
   "execution_count": null,
   "id": "572b4290-2093-499d-aafb-c72ae1db1da7",
   "metadata": {},
   "outputs": [],
   "source": [
    "!flask run"
   ]
  },
  {
   "cell_type": "markdown",
   "id": "e79bbefa-7621-4e91-a264-2962d77746d1",
   "metadata": {},
   "source": [
    "* En un navegador: localhost:5000/hola/Pablo\n",
    "\n",
    "* Por defecto, en Flask existen los siguientes conversores:\n",
    "\n",
    "|            |                                                                                                           |\n",
    "| --         | --                                                                                                        |\n",
    "| **string** | conversor por defecto, acepta cualquier cadena que no contenga el carácter '/'                            |\n",
    "| **int**    |                                                                                                           |\n",
    "| **float**  |                                                                                                           |\n",
    "| **path**   | como string pero acepta cadenas con '/'                                                                   |\n",
    "| **uuid**   | acepta cadenas con formato UUID (32 dígitos hexadecimales). Ejemplo: 550e8400-e29b-41d4-a716-446655440000 |"
   ]
  },
  {
   "cell_type": "markdown",
   "id": "c4498358-e0e9-4174-b435-d5051d7277a2",
   "metadata": {},
   "source": [
    "## Template sin parámetro"
   ]
  },
  {
   "cell_type": "markdown",
   "id": "de6de0e1-fd20-40ea-8d45-1a1eefb9f6d0",
   "metadata": {},
   "source": [
    "* Uso de plantillas para la generación de contenido HTML dinámico\n",
    "* En Flask, por convención, a las funciones que están asociadas a una URL se les llama \"vistas\"\n",
    "1. Crear dentro del proyecto una carpeta llamada **templates**, Flask buscará las plantillas dentro de este directorio\n",
    "2. Crear dentro de la carpeta **templates** un archivo html. Ej. index.html"
   ]
  },
  {
   "cell_type": "code",
   "execution_count": 24,
   "id": "da3c42ff-cad0-4a96-b485-1da4fffe026d",
   "metadata": {},
   "outputs": [
    {
     "name": "stdout",
     "output_type": "stream",
     "text": [
      "Overwriting templates/index.html\n"
     ]
    }
   ],
   "source": [
    "%%file templates/index.html\n",
    "<html>\n",
    "<head>\n",
    "    <title> Flask App </title>\n",
    "</head>\n",
    "<body>\n",
    "    <h1>Hola</h1>\n",
    "    <h2>Bienvenidos</h2>\n",
    "</body>\n",
    "</html>"
   ]
  },
  {
   "cell_type": "code",
   "execution_count": 25,
   "id": "ba845c17-bbd3-48c8-bb79-2b9c1a8cdde5",
   "metadata": {},
   "outputs": [
    {
     "name": "stdout",
     "output_type": "stream",
     "text": [
      "Writing template_sin_param.py\n"
     ]
    }
   ],
   "source": [
    "%%file template_sin_param.py\n",
    "from flask import Flask, render_template\n",
    "\n",
    "app = Flask(__name__)\n",
    "\n",
    "@app.route('/home')\n",
    "def home():\n",
    "    return render_template('index.html')"
   ]
  },
  {
   "cell_type": "code",
   "execution_count": null,
   "id": "c4fb8807-fe6c-4147-86c9-121ffb8807bd",
   "metadata": {},
   "outputs": [],
   "source": [
    "!export FLASK_APP=template_sin_param.py"
   ]
  },
  {
   "cell_type": "code",
   "execution_count": null,
   "id": "915d68ce-b09f-4d34-a12c-a19f424cd8da",
   "metadata": {},
   "outputs": [],
   "source": [
    "!flask run"
   ]
  },
  {
   "cell_type": "markdown",
   "id": "de5cb626-7126-4f87-8393-32c739fb0d2b",
   "metadata": {},
   "source": [
    "## Template con parámetro"
   ]
  },
  {
   "cell_type": "code",
   "execution_count": 26,
   "id": "3e7c9575-46bf-4ef6-9ddf-35fae52771bc",
   "metadata": {},
   "outputs": [
    {
     "name": "stdout",
     "output_type": "stream",
     "text": [
      "Overwriting templates/index2.html\n"
     ]
    }
   ],
   "source": [
    "%%file templates/index2.html\n",
    "<html>\n",
    "<head>\n",
    "    <title> Flask App </title>\n",
    "</head>\n",
    "<body>\n",
    "    <h1>Hola {{nombre}}</h1>\n",
    "</body>\n",
    "</html>"
   ]
  },
  {
   "cell_type": "markdown",
   "id": "b4412120-756a-489c-913c-5a83034d0049",
   "metadata": {},
   "source": [
    "* En el archivo html, se utiliza una sintaxis llamada jinja2 (igual que en django)\n",
    "* Una plantilla jinja2 no es más que un archivo que contiene datos estáticos junto con bloques para generar contenido dinámico\n",
    "* El resultado de renderizar una plantilla es un documento HTML en el que los bloques de generación de contenido dinámico han sido procesados"
   ]
  },
  {
   "cell_type": "code",
   "execution_count": 27,
   "id": "a16ef4c1-cc3c-44a5-9e9b-eb17cf61a411",
   "metadata": {},
   "outputs": [
    {
     "name": "stdout",
     "output_type": "stream",
     "text": [
      "Writing template_con_param.py\n"
     ]
    }
   ],
   "source": [
    "%%file template_con_param.py\n",
    "from flask import Flask, render_template\n",
    "\n",
    "app = Flask(__name__)\n",
    "\n",
    "@app.route('/home')\n",
    "def home():\n",
    "    return render_template('index2.html', nombre='mundo')"
   ]
  },
  {
   "cell_type": "code",
   "execution_count": null,
   "id": "964267ac-b728-44dc-9039-61134e5e55b4",
   "metadata": {},
   "outputs": [],
   "source": [
    "!export FLASK_APP=template_con_param.py"
   ]
  },
  {
   "cell_type": "code",
   "execution_count": null,
   "id": "47411140-2426-45c1-a380-bd919954e688",
   "metadata": {},
   "outputs": [],
   "source": [
    "!flask run"
   ]
  },
  {
   "cell_type": "markdown",
   "id": "44380e62-1312-4011-a02e-ab83254f6df2",
   "metadata": {},
   "source": [
    "## Archivos estáticos"
   ]
  },
  {
   "cell_type": "markdown",
   "id": "34ce821d-fd10-4398-bdd8-1ce1563e87c9",
   "metadata": {},
   "source": [
    "* Su contenido no cambia a lo largo del ciclo de ejecución de una aplicación web\n",
    "* Ejemplo: archivos CSS, imágenes, código javascript\n",
    "* Flask facilita una vista para servir los recursos estáticos de la aplicación, evitando de preocuparse de configuraciones\n",
    "* Estos archivos se deben ubicar en un directorio llamado **static** situado al mismo nivel que el directorio **template**. Este directorio estará accesible en la URL **/static**"
   ]
  },
  {
   "cell_type": "markdown",
   "id": "8c9b344c-ddbc-4c66-a445-3a7640bea695",
   "metadata": {},
   "source": [
    "## Uso de formularios en Flask"
   ]
  },
  {
   "cell_type": "markdown",
   "id": "4f99b2c5-7d80-4860-9cf9-938e893d79b6",
   "metadata": {},
   "source": [
    "* A través de los formularios los usuarios pueden interactuar con la aplicación enviando cualquier tipo de información al servidor\n",
    "* El protocolo HTTP define una serie de de métodos de petición para indicar la acción que se desea realizar sobre un recurso determinado:\n",
    "  * GET: debe emplearse para solicitar un recurso (recuperar datos)\n",
    "  * POST: se utiliza para enviar una entidad a un recurso específico, de manera que sen envian datos al servidor donde son procesados"
   ]
  },
  {
   "cell_type": "code",
   "execution_count": 28,
   "id": "b0597abf-0275-44ae-8ff3-d45e4de6b50a",
   "metadata": {},
   "outputs": [
    {
     "name": "stdout",
     "output_type": "stream",
     "text": [
      "Overwriting templates/layout.html\n"
     ]
    }
   ],
   "source": [
    "%%file templates/layout.html\n",
    "<html>\n",
    "<head>\n",
    "    <title> Flask App </title>\n",
    "</head>\n",
    "<body>\n",
    "    {% block body %}\n",
    "    {% endblock %}\n",
    "</body>\n",
    "</html>"
   ]
  },
  {
   "cell_type": "code",
   "execution_count": 29,
   "id": "84626845-d45d-4452-825f-7770e8902f50",
   "metadata": {},
   "outputs": [
    {
     "name": "stdout",
     "output_type": "stream",
     "text": [
      "Overwriting templates/index3.html\n"
     ]
    }
   ],
   "source": [
    "%%file templates/index3.html\n",
    "{% extends 'layout.html' %}\n",
    "{% block body %}\n",
    "<h1>Bienvenido</h1>\n",
    "<form action=\"{{ url_for('contacto') }}\" method='post'>\n",
    "    <input type='text' name='nombre' placeholder='Ingresa un nombre'>\n",
    "    <button>Enviar</button>\n",
    "</form>\n",
    "{% endblock %}"
   ]
  },
  {
   "cell_type": "code",
   "execution_count": 30,
   "id": "703230b6-06b5-4fd1-9790-f75a0528238d",
   "metadata": {},
   "outputs": [
    {
     "name": "stdout",
     "output_type": "stream",
     "text": [
      "Overwriting templates/contacto.html\n"
     ]
    }
   ],
   "source": [
    "%%file templates/contacto.html\n",
    "{% extends 'layout.html' %}\n",
    "{% block body %}\n",
    "<h1>Hola {{nombre}}</h1>\n",
    "{% endblock %}"
   ]
  },
  {
   "cell_type": "code",
   "execution_count": 1,
   "id": "17644d68-bbb9-480c-afb1-6d342118fca5",
   "metadata": {},
   "outputs": [
    {
     "name": "stdout",
     "output_type": "stream",
     "text": [
      "Overwriting form.py\n"
     ]
    }
   ],
   "source": [
    "%%file form.py\n",
    "from flask import Flask, render_template, request\n",
    "\n",
    "app = Flask(__name__)\n",
    "\n",
    "@app.route('/')\n",
    "def home():\n",
    "    return render_template('index3.html')\n",
    "\n",
    "@app.route('/contacto', methods=['POST'])   # Por default es 'GET'\n",
    "def contacto():\n",
    "    nombre = request.form.get('nombre')     # 'nombre' es el valor del attr 'name' del input\n",
    "    return render_template('contacto.html', nombre=nombre)"
   ]
  },
  {
   "cell_type": "code",
   "execution_count": 2,
   "id": "e97fed9a-963f-4dc5-b96b-00ed59e6a5d3",
   "metadata": {},
   "outputs": [],
   "source": [
    "!export FLASK_APP=form.py"
   ]
  },
  {
   "cell_type": "code",
   "execution_count": 3,
   "id": "268227d9-e4e8-4032-ab04-0f5ab750ec91",
   "metadata": {},
   "outputs": [
    {
     "name": "stdout",
     "output_type": "stream",
     "text": [
      " * Serving Flask app 'form'\n",
      " * Debug mode: off\n",
      "\u001b[31m\u001b[1mWARNING: This is a development server. Do not use it in a production deployment. Use a production WSGI server instead.\u001b[0m\n",
      " * Running on http://127.0.0.1:5000\n",
      "\u001b[33mPress CTRL+C to quit\u001b[0m\n",
      "127.0.0.1 - - [30/Aug/2025 10:54:44] \"GET / HTTP/1.1\" 200 -\n",
      "127.0.0.1 - - [30/Aug/2025 10:54:50] \"POST /contacto HTTP/1.1\" 200 -\n",
      "^C\n"
     ]
    }
   ],
   "source": [
    "!flask --app form run"
   ]
  }
 ],
 "metadata": {
  "kernelspec": {
   "display_name": "Python [conda env:base] *",
   "language": "python",
   "name": "conda-base-py"
  },
  "language_info": {
   "codemirror_mode": {
    "name": "ipython",
    "version": 3
   },
   "file_extension": ".py",
   "mimetype": "text/x-python",
   "name": "python",
   "nbconvert_exporter": "python",
   "pygments_lexer": "ipython3",
   "version": "3.12.7"
  }
 },
 "nbformat": 4,
 "nbformat_minor": 5
}
