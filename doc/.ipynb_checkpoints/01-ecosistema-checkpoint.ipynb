{
 "cells": [
  {
   "cell_type": "markdown",
   "id": "a183c405-b046-4808-a5b3-970e4a991176",
   "metadata": {},
   "source": [
    "# Ecosistema Web\n",
    "---"
   ]
  },
  {
   "cell_type": "markdown",
   "id": "91698a5f-1d54-4721-b4c3-1fc074055181",
   "metadata": {},
   "source": [
    "## Web"
   ]
  },
  {
   "cell_type": "markdown",
   "id": "895d2f99-a400-442b-a63d-42108c5fb0e4",
   "metadata": {},
   "source": [
    "* Es un conjunto de documentos **conectados a través de hipertexto**\n",
    "* La **primera propuesta de la web fue presentada por Tim Berners-Lee** en el CERN en 1989\n",
    "* Los **documentos se escriben en HTML** y se envian a través del **protocolo HTTP** (se utiliza para conectar los servidores)\n",
    "* HTTP fue creado en 1999 por el W3C\n",
    "* HTTP no es seguro y si un atacante intercepta la transmisión **puede acceder a datos privados**\n",
    "* **HTTPS agrega una capa de seguridad TLS y cifra los datos**. Si un atacante intercepta la transmisión solo obtendrá datos cifrados\n",
    "\n",
    "![Servidores de Google](img/servers-google.jpeg)"
   ]
  },
  {
   "cell_type": "markdown",
   "id": "40ffde8a-03fc-4e39-8981-8bd0e08e3802",
   "metadata": {},
   "source": [
    "## Arquitectura Cliente Servidor"
   ]
  },
  {
   "cell_type": "markdown",
   "id": "b63b747c-9560-4b61-a804-16b78dfeae8a",
   "metadata": {},
   "source": [
    "* Cada vez que navegas por Internet, usas la arquitectura cliente - servidor\n",
    "\n",
    "![Arq. cliente-servidor](img/cliente_serv.png)"
   ]
  },
  {
   "cell_type": "markdown",
   "id": "75865e7c-da5e-4edb-a60c-72814c69a328",
   "metadata": {},
   "source": [
    "## Servidor Web"
   ]
  },
  {
   "cell_type": "markdown",
   "id": "3e182dff-5226-4160-b96d-54f7f77bef0e",
   "metadata": {},
   "source": [
    "* Programa que se encuentra escuchando o esperando constantemente por una petición realizada desde la red (clientes)\n",
    "* Almacenan y transmiten páginas web a los clientes\n",
    "* Cuando se recibe esta petición el servidor realiza la acción correspondiente, o responde de la manera adecuada y sigue escuchando\n",
    "* Un servidor web dialoga (o se comunica) con sus clientes a través del protocolo HTTP\n",
    "* **Hosting**: es el espacio en un servidor donde se aloja un sitio web para que este pueda ser visible en Internet\n",
    "\n",
    "![Tipos de servidor web y de hosting web](img/tipos-servidores-hostings.JPG)"
   ]
  },
  {
   "cell_type": "markdown",
   "id": "9faa6121-f088-4dee-b2a6-e882f351fca5",
   "metadata": {},
   "source": [
    "## HTTP"
   ]
  },
  {
   "cell_type": "markdown",
   "id": "d8ffb100-06b1-4742-969a-67c7dfe67147",
   "metadata": {},
   "source": [
    "* HyperText Transfer Protocol (Protocolo de Transferencia de HiperTexto)\n",
    "* Es el protocolo de transmisión de información de la World Wide Web, es decir, el código que se establece para que el computador solicitante y el que contiene la información solicitada puedan \"hablar\" un mismo idioma a la hora de transmitir información por la red\n",
    "* Con el http se establecen criterios de sintaxis y semántica informática (forma y significado) para el establecimiento de la comunicación entre los diferentes elementos que constituyen la arquitectura web: servidores, clientes, proxies\n",
    "* Fue creado en 1999 por el World Wide Web Consortium en colaboración con la Internet Engineering Task Force"
   ]
  },
  {
   "cell_type": "markdown",
   "id": "54fabca2-c40d-4290-898d-9b2faafa191a",
   "metadata": {},
   "source": [
    "## HTTPS"
   ]
  },
  {
   "cell_type": "markdown",
   "id": "45622882-60ac-46e1-bdbb-b6daa0339ad6",
   "metadata": {},
   "source": [
    "* HyperText Transfer Procotol Secure (Protocolo Seguro de Transferencia de Hipertexto)\n",
    "* No es más que la versión segura del http, es decir, una variante del mismo protocolo que se basa en la creación de un canal cifrado para la transmisión de la información, lo cual lo hace más apropiado para ciertos datos de tipo sensible (como claves y usuarios personales)\n",
    "* A diferencia del http, el https está protegido contra la intervención de terceros que puedan espiar el intercambio de información o hacerse con datos del mismo, mediante el uso de \"capas de red\" que permiten sólo al servidor y al cliente cifrar y descifrar la información enviada mediante el intercambio previo de certificados de red, una suerte de convalidación inicial de confianza para establecer la transferencia de información\n",
    "\n",
    "![HTTP y HTTPS](img/https.png)\n",
    "\n",
    "![HTTPS](img/https.JPG)"
   ]
  },
  {
   "cell_type": "markdown",
   "id": "55719666-e985-4033-b2c2-c8bc1c20278b",
   "metadata": {},
   "source": [
    "## URL"
   ]
  },
  {
   "cell_type": "markdown",
   "id": "7fc1b1d3-de80-4dfd-a6f0-1e30f2968715",
   "metadata": {},
   "source": [
    "* Universal Resource Locator\n",
    "* También llamado Dirección Web\n",
    "* Es el nombre por el que se encuentra a un sitio web\n",
    "* Se ocupa de enlazar recursos, que se mueven a través de direcciones IP o nombres de dominios\n",
    "* Es la dirección que se escribe en la barra de direcciones del navegador, sirve para acceder a un sitio web\n",
    "* Ejemplo: [www.minegocio.com](www.minegocio.com)\n",
    "\n",
    "![Diferencia entre Web Hosting y Dominio](img/hosting-dominio.JPG)\n",
    "\n",
    "![Estructura de una URL](img/url.JPG)"
   ]
  },
  {
   "cell_type": "markdown",
   "id": "47030198-66f9-40ab-89df-1f174ec9e2b8",
   "metadata": {},
   "source": [
    "## Dirección IP (Internet Protocol)"
   ]
  },
  {
   "cell_type": "markdown",
   "id": "82397bba-e44c-4a6b-b17a-11ebd7c43f17",
   "metadata": {},
   "source": [
    "* La dirección IP de una computadora es la identificación única que esa computadora tiene en Internet\n",
    "* Es uno de los \"estándares\" por el cual funciona la internet\n",
    "* Su fin es optimizar el envío de paquetes de datos\n",
    "* Para facilitar este envío, cada dispositivo conectado a internet recibe un número único\n",
    "* Las de mayor uso fueron las IPv4 formadas por cuatro números separados con puntos. Cada número representa un byte\n",
    "* Ejemplo: 172.54.221.6, 192.168.2.1\n",
    "\n",
    "![IP](img/ip.JPG)"
   ]
  },
  {
   "cell_type": "markdown",
   "id": "5c5d5293-3a79-478e-8aeb-44cbd314a5df",
   "metadata": {},
   "source": [
    "## Página vs Sitio vs Aplicación"
   ]
  },
  {
   "cell_type": "markdown",
   "id": "cb7d8f11-d828-482f-a616-c248dbe60483",
   "metadata": {},
   "source": [
    "* **Página Web**:\n",
    "  * En esencia, las páginas web son documentos HTML (Hyper Text Markup Language) con distintos atributos estéticos CSS (Cascading Style Sheets) que han sido almacenados en un servidor por lo que se les puede acceder desde cualquier computadora usando un **navegador**\n",
    "  * Como veremos más adelante, los documentos HTML no son muy distintos de un documento word por ejemplo, sólo que tendrán una estructura más definida. A grandes rasgosm es esta:\n",
    "\n",
    "```html\n",
    "<HTML>\n",
    "  <HEAD>\n",
    "    <TITLE>Título</TITLE>\n",
    "  </HEAD>\n",
    "  <BODY>\n",
    "      Texto, gráficos, enlaces, etc.\n",
    "  </BODY>\n",
    "</HTML>    \n",
    "```\n",
    "  \n",
    "  * Los documentos HTML se pueden crear fácilmente desde cualquier computadora (como también lo veremos) pero para que se puedan almacenar en un servidor y puedan convertirse en páginas web se debe conseguir un dominio y un servicio de hosting\n",
    "  * Puede ser dinámica (con Base de Datos) o estática (sólo código)\n",
    "\n",
    "![Página Web](img/page.png)\n",
    "\n",
    "* **Sitio Web**:\n",
    "  * Colección de páginas web vinculadas entre sí y estructuradas en un dominio; es decir, dotadas de una dirección web única\n",
    "  * Informa lo que hace una empresa (no es el negocio en si)\n",
    "  * Pueden ser creadas por desarrolladores o personas que no sepan programar\n",
    "\n",
    "* **Aplicación Web**:\n",
    "  * Software (programa informático) en la red (servidor) desarrollado con tecnologías web\n",
    "  * Es el núcleo del negocio de la empresa\n",
    "  * Se crea con código\n",
    "  * Son creadas por desarrolladores web profesionales\n",
    "  * El programa recibe los inputs del usuario\n",
    "  * El programa genera dinámicamente páginas web que muestran información personalizada y en su caso permiten al usuario seguir interactuando"
   ]
  },
  {
   "cell_type": "markdown",
   "id": "a2110e75-1ac8-4680-9b21-8ff3ce1e0336",
   "metadata": {},
   "source": [
    "## Página web: estática vs. dinámica"
   ]
  },
  {
   "cell_type": "markdown",
   "id": "cfcd1720-1fae-4868-b3a9-58a58aed927d",
   "metadata": {},
   "source": [
    "| Estática                                                                   | Dinámica                                                                   |\n",
    "| --                                                                         | --                                                                         |\n",
    "| La información está escrita directamente en el código                      | La información se lee desde una BD o una API                               |\n",
    "| El contenido que ven los usuarios siempre es el mismo                      | La información de la página se adapta a cada uno de los usuarios           |\n",
    "| Cambiar la información implica modificar el código                         | Se puede editar el contenido a través de una interfaz                      |\n",
    "| Su uso es común en sitios que cambian muy poco (publicidad, documentación) | Utilizada en sitios que cambian con frecuencia (ecommerce, redes sociales) |"
   ]
  },
  {
   "cell_type": "markdown",
   "id": "e8a5177a-7955-411a-9cb3-1df73cf6ed04",
   "metadata": {},
   "source": [
    "## Desarrollo web"
   ]
  },
  {
   "cell_type": "markdown",
   "id": "6ef35ed2-a5da-4af5-af36-0aead6ae90c4",
   "metadata": {},
   "source": [
    "![Desarrollo Web](img/iceberg.jpeg)\n",
    "\n",
    "* Se divide en:\n",
    "* **Frontend**: es la parte encargada del lado del cliente (lo que se observa en pantalla)\n",
    "\n",
    "![Frontend](img/frontend-tecnolog%C3%ADas.JPG)\n",
    "\n",
    "* **Backend**: es la parte encargada del lado del servidor (no es visible)\n",
    "\n",
    "![Backend](img/backend-tecnologias.JPG)\n",
    "\n",
    "![Backend camino](img/backend-camino.JPG)\n",
    "\n",
    "![Full-stack herramientas de desarrollo](img/fullstack-herramientas.JPG)"
   ]
  },
  {
   "cell_type": "markdown",
   "id": "40d36b14-de16-4e28-8714-8ca0958bba2f",
   "metadata": {},
   "source": [
    "## API"
   ]
  },
  {
   "cell_type": "markdown",
   "id": "f0069531-be93-45c9-a0e3-bd4683e3b003",
   "metadata": {},
   "source": [
    "* API: Application Programming Interface\n",
    "* Una interfaz es una capa que conecta dos sistemas\n",
    "* Una API es una interfaz que conecta aplicaciones para que compartan información\n",
    "* API Rest:\n",
    "  * Rest es una arquitectura para APIs que se conectan vía web con el protocolo HTTP\n",
    "  * Permite acceder a la información con identificadores únicos (URI)\n",
    "\n",
    "![API](img/api.JPG)"
   ]
  },
  {
   "cell_type": "markdown",
   "id": "bd1d2781-a0ae-43a7-8b28-492d54b9264f",
   "metadata": {},
   "source": [
    "## Roles del Frontend"
   ]
  },
  {
   "cell_type": "markdown",
   "id": "16df6d27-71c1-46e9-962d-586fbe7512d7",
   "metadata": {},
   "source": [
    "* **Diseñador UI**: diseña los flujos de usuario, las pantallas e interacciones en un programa de diseño (no escribe código)\n",
    "* **Maquetador**: lleva el diseño a código HTML y CSS. No se preocupa de la lógica, sólo de la presentación\n",
    "* **Programador frontend**: agrega datos reales desde una API y lógica a la presentación creada por el maquetador\n",
    "\n",
    "```plain\n",
    "Un desarrollador web frontend se encarga de producir código HTML, CSS y JS para el lado del cliente, entendible e interpretable por el navegador y que resulte en una experiencia web utilizable por el usuario\n",
    "```"
   ]
  },
  {
   "cell_type": "markdown",
   "id": "ad22e0bb-6490-4660-8818-99912c5081af",
   "metadata": {},
   "source": [
    "## Roles del Backend"
   ]
  },
  {
   "cell_type": "markdown",
   "id": "6d509647-6ccc-48b0-9b3b-b3edb5d99f15",
   "metadata": {},
   "source": [
    "* **Backend developer**: se encarga de la lógica del negocio (el código del lado del servidor) y crea las APIs para que el frontend pueda consumirlas\n",
    "* **Database administrator**: diseña, implementa, mejora y mantiene el sistema de base de datos\n",
    "* **Administrador del servidor**: gestiona la instalación, soporte y mantiene el servidor en donde se aloja la web o app"
   ]
  },
  {
   "cell_type": "markdown",
   "id": "95c0255a-40ae-4898-9948-b4e7fdbe6dbb",
   "metadata": {},
   "source": [
    "## Navegador Web (Web Browser)"
   ]
  },
  {
   "cell_type": "markdown",
   "id": "aa828e12-2dc6-4bba-a16d-82d6d5dcba65",
   "metadata": {},
   "source": [
    "* Es un programa que permite visualizar en nuestra computadora la información que contiene una página web\n",
    "* Cada navegador web cuenta con un motor de renderizado\n",
    "* Renderizado es un proceso que ejecutan los motores de los navegadores web, que al cargar un sitio web, leen en tiempo real el código de los tags HTML, CSS y JavaScript, para poder transformarlos en los componentes visuales y textos formateados que conforman una web\n",
    "* Cada motor es particular, hay que lograr la compatibilidad necesaria para respetar al menos el desempeño de nuestras web en los navegadores más populares del momento. Recurso Web: [www.caniuse.com](www.caniuse.com)\n",
    "* Principales browsers:\n",
    "  * Opera (1996)\n",
    "  * Safari (2003)\n",
    "  * Mozilla Firefox (2004)\n",
    "  * Chrome (2008)\n",
    "  * Brave (2016)\n",
    "  * Edge Chromium (2020)\n",
    "![Principales Navegadores](img/browsers.png)"
   ]
  },
  {
   "cell_type": "markdown",
   "id": "a12bbd28-8b08-4ebf-b380-c389116012ba",
   "metadata": {},
   "source": [
    "## Framework"
   ]
  },
  {
   "cell_type": "markdown",
   "id": "7bfc4db9-54be-41cd-9716-386f4e4927f0",
   "metadata": {},
   "source": [
    "* Conjunto de herramientas adaptables para ejecutar proyectos de forma ordenada y eficiente\n",
    "* Desarrolla proyectos completos o parte de un proyecto\n",
    "* Permite ahorrar tiempo y organizar mejor un proyecto\n",
    "* Existen frameworks para multimedia, aplicaciones web, tecnologías AJAX, gestión de contenidos, aplicaciones en general\n",
    "* Su uso no es paso obligatorio en el desarrollo de software, pero es muy usado dado el ahorro de tiempo que supone\n",
    "* Ejemplos: Vue, Django, Laravel, Angular, etc."
   ]
  },
  {
   "cell_type": "markdown",
   "id": "f3370416-6c76-4aba-b33b-3f8ebe0bf36f",
   "metadata": {},
   "source": [
    "## Editor de código"
   ]
  },
  {
   "cell_type": "markdown",
   "id": "71c94016-cca8-489a-a0c0-835d42be5bf8",
   "metadata": {},
   "source": [
    "* Es una herramienta especializada en desempeñar una tarea muy específica, editar archivos para escribir y modificar código\n",
    "* Ejemplos: Visual Studio Code, Sublime Text, etc."
   ]
  },
  {
   "cell_type": "markdown",
   "id": "c9a67200-460d-4cfe-8b9d-50543330da61",
   "metadata": {},
   "source": [
    "## Etapas básicas en el desarrollo de un proyecto web"
   ]
  },
  {
   "cell_type": "markdown",
   "id": "1cfa3ba2-1ef3-43e7-8db3-d095296206ab",
   "metadata": {},
   "source": [
    "1. **Planificación**: documenta los requerimientos del proyecto y las tecnologías a utilizar\n",
    "1. **UX/UI**: define los flujos e interacción del usuario y diseña la interfaz gráfica\n",
    "1. **Desarrollo**: desarrolla la UI, la BD y la lógica de la app\n",
    "1. **Despliegue**: verifica que el proyecto cumple con los requerimientos y se sube a producción\n",
    "1. **Soporte**: se corrigen errores no detectados en el desarrollo de la aplicación\n",
    "\n",
    "![Meme](img/meme.jpg)\n",
    "\n",
    "![Deploy](img/deploy.jpg)"
   ]
  },
  {
   "cell_type": "markdown",
   "id": "d39ebc8d-efec-4a03-9c2d-4617f7425ef1",
   "metadata": {},
   "source": [
    "## La importancia del Testing"
   ]
  },
  {
   "cell_type": "markdown",
   "id": "c062bfb0-2395-4b00-b5ec-4de94d823411",
   "metadata": {},
   "source": [
    "* Permite definir la fiabilidad y la robustez que la aplicación íntegra, y también los errores, conocidos como bugs, que esta tiene\n",
    "* La finalidad es pulir al máximo el control de errores, para entregar un producto lo más cercano a la perfección\n",
    "* La planificación de pruebas de usuario no debe ser un tema propio del área de QA, sino que debe estar encarada desde los inicios del diseño de toda aplicación (análisis funcional, desarrollo de software, testing)\n",
    "* La usabilidad y la experiencia de usuario son factores clave en el momento de testear una aplicación"
   ]
  },
  {
   "cell_type": "markdown",
   "id": "5557de20-606e-4626-9bd5-cdf49a503399",
   "metadata": {},
   "source": [
    "## Automatización de tests"
   ]
  },
  {
   "cell_type": "markdown",
   "id": "ee3b1f53-a1d5-4670-8468-c68bd52ef780",
   "metadata": {},
   "source": [
    "* Pone entre el tester y la aplicación de software un programa diseñado para controlar la ejecución de pruebas, y comparar de manera más rápida los resultados obtenidos y los resultados esperados\n",
    "* Generar reportes con las pruebas exitosas y fallidas\n",
    "* Guarda las métricas necesarias\n",
    "* Herramientas: Selenium, Cypress, HP Quicktest Professional, Rational Functional Tester, etc.\n",
    "\n",
    "![Piramide QA esfuerzo y costo](img/piramide_qa1.png)\n",
    "![Piramide QA niveles de tests](img/piramide_qa2.png)\n",
    "![Arquitectura QA](img/arq_qa.jpg)"
   ]
  },
  {
   "cell_type": "markdown",
   "id": "a193249f-94b7-4f3c-89ae-77a47e2bf75e",
   "metadata": {},
   "source": [
    "## Metodología de Trabajo"
   ]
  },
  {
   "cell_type": "markdown",
   "id": "c1dfb1d4-7fbf-44dc-9da6-fe26e48985d4",
   "metadata": {},
   "source": [
    "* Antiguo modelo de cascada: Diseño -> Desarrollo -> Testing\n",
    "* Scrum:\n",
    "  * Es un marco de trabajo ágil que orienta en el desarrollo de un proyecto en forma flexible y con adaptación rápida a los cambios\n",
    "  * Es un marco de trabajo a través del cual las personas pueden abordar problemas complejos adaptativos, a la vez que entregan productos de forma eficiente y creativa con el máximo valor\n",
    "  * Permite actividades en equipo a través de procesos de iteraciones\n",
    "\n",
    "![Fases Desarrollo](img/fases.JPG)\n",
    "![Scrum](img/scrum.JPG)\n",
    "![Tablero](img/tablero.jpg)"
   ]
  }
 ],
 "metadata": {
  "kernelspec": {
   "display_name": "Python [conda env:base] *",
   "language": "python",
   "name": "conda-base-py"
  },
  "language_info": {
   "codemirror_mode": {
    "name": "ipython",
    "version": 3
   },
   "file_extension": ".py",
   "mimetype": "text/x-python",
   "name": "python",
   "nbconvert_exporter": "python",
   "pygments_lexer": "ipython3",
   "version": "3.12.7"
  }
 },
 "nbformat": 4,
 "nbformat_minor": 5
}
