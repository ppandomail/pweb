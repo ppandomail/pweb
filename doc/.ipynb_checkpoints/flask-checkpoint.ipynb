{
 "cells": [
  {
   "cell_type": "markdown",
   "id": "42942701-4ac7-4098-88cf-7a78af375d82",
   "metadata": {},
   "source": [
    "# Flask\n",
    "---"
   ]
  },
  {
   "cell_type": "markdown",
   "id": "91e98fa2-a5a3-4ac9-a857-02b7248bcc57",
   "metadata": {},
   "source": [
    "* Crear aplicaciones web en forma rápida"
   ]
  },
  {
   "cell_type": "code",
   "execution_count": 17,
   "id": "85879471-be26-4c2b-bef3-6838a1e4f6a9",
   "metadata": {},
   "outputs": [
    {
     "name": "stdout",
     "output_type": "stream",
     "text": [
      "Overwriting hello.py\n"
     ]
    }
   ],
   "source": [
    "%%file hello.py\n",
    "from flask import Flask\n",
    "\n",
    "app = Flask(__name__)\n",
    "@app.route('/')  # le dice a Flask qué URL debe ejecutar \n",
    "def index():\n",
    "  return '<h1>Hola mundo!<h1>'"
   ]
  },
  {
   "cell_type": "code",
   "execution_count": 18,
   "id": "1a6cf0a5-c445-4db4-8f7c-023ce323a77a",
   "metadata": {},
   "outputs": [],
   "source": [
    "!export FLASK_APP=hello.py"
   ]
  },
  {
   "cell_type": "code",
   "execution_count": 19,
   "id": "5edfe529-0bf4-4f8c-93d8-7f690158e3d1",
   "metadata": {},
   "outputs": [
    {
     "name": "stdout",
     "output_type": "stream",
     "text": [
      " * Serving Flask app 'hello'\n",
      " * Debug mode: off\n",
      "\u001b[31m\u001b[1mWARNING: This is a development server. Do not use it in a production deployment. Use a production WSGI server instead.\u001b[0m\n",
      " * Running on http://127.0.0.1:5000\n",
      "\u001b[33mPress CTRL+C to quit\u001b[0m\n",
      "^C\n"
     ]
    }
   ],
   "source": [
    "!flask --app hello run"
   ]
  }
 ],
 "metadata": {
  "kernelspec": {
   "display_name": "Python [conda env:base] *",
   "language": "python",
   "name": "conda-base-py"
  },
  "language_info": {
   "codemirror_mode": {
    "name": "ipython",
    "version": 3
   },
   "file_extension": ".py",
   "mimetype": "text/x-python",
   "name": "python",
   "nbconvert_exporter": "python",
   "pygments_lexer": "ipython3",
   "version": "3.12.7"
  }
 },
 "nbformat": 4,
 "nbformat_minor": 5
}
