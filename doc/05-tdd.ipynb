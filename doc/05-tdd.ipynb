{
 "cells": [
  {
   "cell_type": "markdown",
   "id": "41a20497-0f0b-40e1-9faf-4e726cfdc0d3",
   "metadata": {},
   "source": [
    "# TDD (Test Driven Development)\n",
    "---"
   ]
  },
  {
   "cell_type": "code",
   "execution_count": null,
   "id": "1efa54cf-e950-4cb3-bca7-2cf23adf8ab8",
   "metadata": {},
   "outputs": [],
   "source": []
  }
 ],
 "metadata": {
  "kernelspec": {
   "display_name": "Python [conda env:base] *",
   "language": "python",
   "name": "conda-base-py"
  },
  "language_info": {
   "codemirror_mode": {
    "name": "ipython",
    "version": 3
   },
   "file_extension": ".py",
   "mimetype": "text/x-python",
   "name": "python",
   "nbconvert_exporter": "python",
   "pygments_lexer": "ipython3",
   "version": "3.12.7"
  }
 },
 "nbformat": 4,
 "nbformat_minor": 5
}
