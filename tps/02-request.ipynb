{
 "cells": [
  {
   "cell_type": "markdown",
   "id": "e118833f-3a6d-43a6-8075-b5f50b810fd4",
   "metadata": {},
   "source": [
    "# TP Request\n",
    "---"
   ]
  },
  {
   "cell_type": "markdown",
   "id": "ee818cbe-75c7-4620-8b7c-392625c9b9b9",
   "metadata": {},
   "source": [
    "### Consumir una API. [Ver https://github.com/public-apis/public-apis](https://github.com/public-apis/public-apis)"
   ]
  },
  {
   "cell_type": "code",
   "execution_count": null,
   "id": "2253f8a2-8b48-448e-ac50-bc2c6b86088a",
   "metadata": {},
   "outputs": [],
   "source": []
  },
  {
   "cell_type": "markdown",
   "id": "858c44d8-a7bb-45d3-8fda-6bb4a704c50b",
   "metadata": {},
   "source": [
    "### Procesar los datos (if)"
   ]
  },
  {
   "cell_type": "code",
   "execution_count": null,
   "id": "024e643f-15c0-43e1-9249-51584a2f4edc",
   "metadata": {},
   "outputs": [],
   "source": []
  },
  {
   "cell_type": "markdown",
   "id": "6e223744-c292-4d33-b4c5-f395c93cc4a2",
   "metadata": {},
   "source": [
    "### Mostrar en consola los datos procesados"
   ]
  },
  {
   "cell_type": "code",
   "execution_count": null,
   "id": "00fa5ce9-c840-46e9-8ce6-4e7fa4491f35",
   "metadata": {},
   "outputs": [],
   "source": []
  }
 ],
 "metadata": {
  "kernelspec": {
   "display_name": "Python [conda env:base] *",
   "language": "python",
   "name": "conda-base-py"
  },
  "language_info": {
   "codemirror_mode": {
    "name": "ipython",
    "version": 3
   },
   "file_extension": ".py",
   "mimetype": "text/x-python",
   "name": "python",
   "nbconvert_exporter": "python",
   "pygments_lexer": "ipython3",
   "version": "3.12.7"
  }
 },
 "nbformat": 4,
 "nbformat_minor": 5
}
