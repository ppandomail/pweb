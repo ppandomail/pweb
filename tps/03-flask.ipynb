{
 "cells": [
  {
   "cell_type": "markdown",
   "id": "739985f0-14b5-4626-b891-fd32cf2ec8f3",
   "metadata": {},
   "source": [
    "# TP Flask\n",
    "---"
   ]
  },
  {
   "cell_type": "markdown",
   "id": "f9ef07b5-5030-42a8-b167-87cc67adbb5d",
   "metadata": {},
   "source": [
    "### API que devuelva la edad de una persona dada una fecha de nacimiento"
   ]
  },
  {
   "cell_type": "code",
   "execution_count": null,
   "id": "4e55c203-5f9c-4317-8f04-d1d3439bc8a9",
   "metadata": {},
   "outputs": [],
   "source": []
  },
  {
   "cell_type": "markdown",
   "id": "0bcf4ca1-a1d2-4076-ac2b-bffb23b6f2e7",
   "metadata": {},
   "source": [
    "### API que devuelva la CUIT de un beneficiario dado un DNI"
   ]
  },
  {
   "cell_type": "code",
   "execution_count": null,
   "id": "d270ce7d-ab9a-4bff-9c61-7778d739f669",
   "metadata": {},
   "outputs": [],
   "source": []
  },
  {
   "cell_type": "markdown",
   "id": "ef9d0e4e-3e3c-49e6-a0ea-7aaa9067b84b",
   "metadata": {},
   "source": [
    "### API que devuelva en texto un número. Ejemplo: 99 respuesta: noventa y nueve"
   ]
  },
  {
   "cell_type": "code",
   "execution_count": null,
   "id": "d0127bc2-4395-4092-9b65-e369b7d32875",
   "metadata": {},
   "outputs": [],
   "source": []
  },
  {
   "cell_type": "markdown",
   "id": "884bea0c-e6c0-4a14-af5c-d127fa5332ec",
   "metadata": {},
   "source": [
    "### APP Login"
   ]
  },
  {
   "cell_type": "code",
   "execution_count": null,
   "id": "db3aa67a-022a-418e-a186-770e14e689a9",
   "metadata": {},
   "outputs": [],
   "source": []
  },
  {
   "cell_type": "markdown",
   "id": "527c319b-0eb0-493a-ab6d-b3adf075f947",
   "metadata": {},
   "source": [
    "### APP Facturador (monto, tipo y nro doc obligatorios según tope de monto). Mostrar ticket y QR"
   ]
  },
  {
   "cell_type": "code",
   "execution_count": null,
   "id": "a39b19f8-75a6-410a-8254-2cbee2fbc71d",
   "metadata": {},
   "outputs": [],
   "source": []
  },
  {
   "cell_type": "markdown",
   "id": "69967a43-cf16-4fe3-9de7-2eeefcfd8296",
   "metadata": {},
   "source": [
    "### APP Gestión de personas"
   ]
  },
  {
   "cell_type": "markdown",
   "id": "d770c139-a3a6-4b56-94e7-9f8775e4d653",
   "metadata": {},
   "source": [
    "![Gestión de Personas](img/personas.jpg)"
   ]
  },
  {
   "cell_type": "code",
   "execution_count": null,
   "id": "1dc22121-3c73-49e8-9a5f-6c7611fce1b5",
   "metadata": {},
   "outputs": [],
   "source": []
  }
 ],
 "metadata": {
  "kernelspec": {
   "display_name": "Python [conda env:base] *",
   "language": "python",
   "name": "conda-base-py"
  },
  "language_info": {
   "codemirror_mode": {
    "name": "ipython",
    "version": 3
   },
   "file_extension": ".py",
   "mimetype": "text/x-python",
   "name": "python",
   "nbconvert_exporter": "python",
   "pygments_lexer": "ipython3",
   "version": "3.12.7"
  }
 },
 "nbformat": 4,
 "nbformat_minor": 5
}
