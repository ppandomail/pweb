{
 "cells": [
  {
   "cell_type": "markdown",
   "id": "16509c7d-1036-4a82-bc45-be65df611342",
   "metadata": {},
   "source": [
    "# TP Ecosistema\n",
    "---"
   ]
  },
  {
   "cell_type": "markdown",
   "id": "d0bd67f1-d643-407e-88db-982356027fad",
   "metadata": {},
   "source": [
    "### Crear repositorio en GitHub / GitLab"
   ]
  },
  {
   "cell_type": "code",
   "execution_count": null,
   "id": "4bc86d9f-c26f-4e19-94e1-3fcd3ddca9af",
   "metadata": {},
   "outputs": [],
   "source": []
  },
  {
   "cell_type": "markdown",
   "id": "1dba7f8d-025b-45e4-9b3a-c739c10d2bfc",
   "metadata": {},
   "source": [
    "### Mapa Conceptual usando Mermaid"
   ]
  },
  {
   "cell_type": "code",
   "execution_count": null,
   "id": "5a7501b9-aac1-4735-afbe-1842f1f95818",
   "metadata": {},
   "outputs": [],
   "source": []
  }
 ],
 "metadata": {
  "kernelspec": {
   "display_name": "Python [conda env:base] *",
   "language": "python",
   "name": "conda-base-py"
  },
  "language_info": {
   "codemirror_mode": {
    "name": "ipython",
    "version": 3
   },
   "file_extension": ".py",
   "mimetype": "text/x-python",
   "name": "python",
   "nbconvert_exporter": "python",
   "pygments_lexer": "ipython3",
   "version": "3.12.7"
  }
 },
 "nbformat": 4,
 "nbformat_minor": 5
}
